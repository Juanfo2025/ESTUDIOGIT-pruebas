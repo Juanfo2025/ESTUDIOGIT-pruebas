{
 "cells": [
  {
   "cell_type": "markdown",
   "id": "bf9977f2",
   "metadata": {},
   "source": [
    "# Mini-proyecto IA — mp01"
   ]
  },
  {
   "cell_type": "code",
   "execution_count": null,
   "id": "97bcd289",
   "metadata": {},
   "outputs": [],
   "source": [
    "import pandas as pd\n",
    "df = pd.read_csv('ia_miniproyecto_01/datos.csv', encoding='utf-8-sig')\n",
    "print('filas:', len(df))\n",
    "print('columnas:', df.shape[1])\n",
    "print('promedio_score:', round(df['score'].mean(), 2))"
   ]
  },
  {
   "cell_type": "code",
   "execution_count": null,
   "id": "596b7b56",
   "metadata": {},
   "outputs": [],
   "source": [
    "import matplotlib\n",
    "matplotlib.use('Agg')\n",
    "import matplotlib.pyplot as plt\n",
    "df = pd.read_csv('ia_miniproyecto_01/datos.csv', encoding='utf-8-sig')\n",
    "plt.figure()\n",
    "plt.bar(df['nombre'], df['score'])\n",
    "plt.title('Score por persona')\n",
    "plt.ylabel('Score')\n",
    "plt.savefig('ia_miniproyecto_01/grafico_scores.png', bbox_inches='tight')\n",
    "print('ok:grafico_scores.png')"
   ]
  },
  {
   "cell_type": "code",
   "execution_count": null,
   "id": "e1eb40ea",
   "metadata": {},
   "outputs": [],
   "source": [
    "import pandas as pd\n",
    "df = pd.read_csv('ia_miniproyecto_01/datos.csv', encoding='utf-8-sig')\n",
    "df[['nombre','score']].to_csv('ia_miniproyecto_01/resumen.csv', index=False, encoding='utf-8')\n",
    "print('ok:resumen.csv')"
   ]
  }
 ],
 "metadata": {},
 "nbformat": 4,
 "nbformat_minor": 5
}
